{
 "cells": [
  {
   "cell_type": "markdown",
   "metadata": {},
   "source": [
    "# LeNet-5\n",
    "이 파일은 LeNet-5(1998)논문을 직접 구현해보는 파일이다"
   ]
  },
  {
   "cell_type": "code",
   "execution_count": 3,
   "metadata": {},
   "outputs": [],
   "source": [
    "from tensorflow.keras.datasets import mnist\n",
    "from tensorflow.keras.utils import to_categorical\n",
    "# MNIST 데이터셋 로드 및 전처리\n",
    "(x_train, y_train), (x_test, y_test) = mnist.load_data()\n",
    "x_train = x_train.reshape(-1, 28, 28, 1).astype('float32') / 255.0\n",
    "x_test = x_test.reshape(-1, 28, 28, 1).astype('float32') / 255.0\n",
    "y_train = to_categorical(y_train)\n",
    "y_test = to_categorical(y_test)"
   ]
  },
  {
   "cell_type": "code",
   "execution_count": 10,
   "metadata": {},
   "outputs": [
    {
     "name": "stdout",
     "output_type": "stream",
     "text": [
      "(60000, 28, 28, 1) (60000, 10) (10000, 28, 28, 1) (10000, 10)\n"
     ]
    }
   ],
   "source": [
    "print(x_train.shape, y_train.shape, x_test.shape, y_test.shape)"
   ]
  },
  {
   "cell_type": "markdown",
   "metadata": {},
   "source": [
    "1. 간단하게 Tensorflow를 사용해 비슷하게만 따라하는 방법"
   ]
  },
  {
   "cell_type": "code",
   "execution_count": 1,
   "metadata": {},
   "outputs": [],
   "source": [
    "# 필요 library\n",
    "import tensorflow as tf\n",
    "from tensorflow.keras import layers, models\n",
    "from tensorflow.keras.models import Sequential\n",
    "from tensorflow.keras.layers import Conv2D, AveragePooling2D\n",
    "from tensorflow.keras.layers import Flatten, Dense\n",
    "from tensorflow.keras.layers import ZeroPadding2D"
   ]
  },
  {
   "cell_type": "code",
   "execution_count": 11,
   "metadata": {},
   "outputs": [
    {
     "name": "stdout",
     "output_type": "stream",
     "text": [
      "Model: \"sequential_2\"\n",
      "_________________________________________________________________\n",
      "Layer (type)                 Output Shape              Param #   \n",
      "=================================================================\n",
      "zero_padding2d_2 (ZeroPaddin (None, 32, 32, 1)         0         \n",
      "_________________________________________________________________\n",
      "conv2d_3 (Conv2D)            (None, 28, 28, 6)         156       \n",
      "_________________________________________________________________\n",
      "average_pooling2d_2 (Average (None, 14, 14, 6)         0         \n",
      "_________________________________________________________________\n",
      "conv2d_4 (Conv2D)            (None, 10, 10, 16)        2416      \n",
      "_________________________________________________________________\n",
      "average_pooling2d_3 (Average (None, 5, 5, 16)          0         \n",
      "_________________________________________________________________\n",
      "flatten_1 (Flatten)          (None, 400)               0         \n",
      "_________________________________________________________________\n",
      "dense_3 (Dense)              (None, 120)               48120     \n",
      "_________________________________________________________________\n",
      "dense_4 (Dense)              (None, 84)                10164     \n",
      "_________________________________________________________________\n",
      "dense_5 (Dense)              (None, 10)                850       \n",
      "=================================================================\n",
      "Total params: 61,706\n",
      "Trainable params: 61,706\n",
      "Non-trainable params: 0\n",
      "_________________________________________________________________\n"
     ]
    }
   ],
   "source": [
    "LeNet = Sequential()\n",
    "LeNet.add(ZeroPadding2D(padding=2))\n",
    "LeNet.add(Conv2D(filters=6, kernel_size=5, padding='valid', strides=1, activation='tanh'))\n",
    "LeNet.add(AveragePooling2D(pool_size=2, strides=2))\n",
    "LeNet.add(Conv2D(filters=16, kernel_size=5, padding='valid', strides=1, activation='tanh'))\n",
    "LeNet.add(AveragePooling2D(pool_size=2, strides=2))\n",
    "LeNet.add(Flatten())\n",
    "LeNet.add(Dense(units=120, activation='tanh'))\n",
    "LeNet.add(Dense(units=84, activation='tanh'))\n",
    "LeNet.add(Dense(units=10, activation='softmax'))\n",
    "\n",
    "LeNet.build(input_shape=(None,28,28,1))\n",
    "LeNet.summary()"
   ]
  },
  {
   "cell_type": "code",
   "execution_count": 13,
   "metadata": {},
   "outputs": [
    {
     "name": "stdout",
     "output_type": "stream",
     "text": [
      "Epoch 1/20\n",
      "1875/1875 [==============================] - 18s 9ms/step - loss: 0.2173 - accuracy: 0.9353 - val_loss: 0.0963 - val_accuracy: 0.9704\n",
      "Epoch 2/20\n",
      "1875/1875 [==============================] - 17s 9ms/step - loss: 0.0808 - accuracy: 0.9745 - val_loss: 0.0619 - val_accuracy: 0.9806\n",
      "Epoch 3/20\n",
      "1875/1875 [==============================] - 17s 9ms/step - loss: 0.0559 - accuracy: 0.9825 - val_loss: 0.0545 - val_accuracy: 0.9835\n",
      "Epoch 4/20\n",
      "1875/1875 [==============================] - 17s 9ms/step - loss: 0.0441 - accuracy: 0.9860 - val_loss: 0.0467 - val_accuracy: 0.9856\n",
      "Epoch 5/20\n",
      "1875/1875 [==============================] - 17s 9ms/step - loss: 0.0321 - accuracy: 0.9902 - val_loss: 0.0445 - val_accuracy: 0.9864\n",
      "Epoch 6/20\n",
      "1875/1875 [==============================] - 17s 9ms/step - loss: 0.0270 - accuracy: 0.9915 - val_loss: 0.0444 - val_accuracy: 0.9860\n",
      "Epoch 7/20\n",
      "1875/1875 [==============================] - 17s 9ms/step - loss: 0.0255 - accuracy: 0.9914 - val_loss: 0.0438 - val_accuracy: 0.9871\n",
      "Epoch 8/20\n",
      "1875/1875 [==============================] - 17s 9ms/step - loss: 0.0197 - accuracy: 0.9936 - val_loss: 0.0513 - val_accuracy: 0.9842\n",
      "Epoch 9/20\n",
      "1875/1875 [==============================] - 17s 9ms/step - loss: 0.0174 - accuracy: 0.9944 - val_loss: 0.0497 - val_accuracy: 0.9866\n",
      "Epoch 10/20\n",
      "1875/1875 [==============================] - 17s 9ms/step - loss: 0.0148 - accuracy: 0.9952 - val_loss: 0.0509 - val_accuracy: 0.9851\n",
      "Epoch 11/20\n",
      "1875/1875 [==============================] - 17s 9ms/step - loss: 0.0139 - accuracy: 0.9953 - val_loss: 0.0447 - val_accuracy: 0.9878\n",
      "Epoch 12/20\n",
      "1875/1875 [==============================] - 17s 9ms/step - loss: 0.0120 - accuracy: 0.9961 - val_loss: 0.0506 - val_accuracy: 0.9863\n",
      "Epoch 13/20\n",
      "1875/1875 [==============================] - 17s 9ms/step - loss: 0.0103 - accuracy: 0.9961 - val_loss: 0.0483 - val_accuracy: 0.9869\n",
      "Epoch 14/20\n",
      "1875/1875 [==============================] - 17s 9ms/step - loss: 0.0099 - accuracy: 0.9969 - val_loss: 0.0576 - val_accuracy: 0.9851\n",
      "Epoch 15/20\n",
      "1875/1875 [==============================] - 17s 9ms/step - loss: 0.0102 - accuracy: 0.9967 - val_loss: 0.0500 - val_accuracy: 0.9874\n",
      "Epoch 16/20\n",
      "1875/1875 [==============================] - 17s 9ms/step - loss: 0.0085 - accuracy: 0.9971 - val_loss: 0.0483 - val_accuracy: 0.9861\n",
      "Epoch 17/20\n",
      "1875/1875 [==============================] - 17s 9ms/step - loss: 0.0097 - accuracy: 0.9966 - val_loss: 0.0571 - val_accuracy: 0.9836\n",
      "Epoch 18/20\n",
      "1875/1875 [==============================] - 17s 9ms/step - loss: 0.0062 - accuracy: 0.9980 - val_loss: 0.0537 - val_accuracy: 0.9866\n",
      "Epoch 19/20\n",
      "1875/1875 [==============================] - 17s 9ms/step - loss: 0.0099 - accuracy: 0.9968 - val_loss: 0.0505 - val_accuracy: 0.9875\n",
      "Epoch 20/20\n",
      "1875/1875 [==============================] - 17s 9ms/step - loss: 0.0073 - accuracy: 0.9976 - val_loss: 0.0555 - val_accuracy: 0.9859\n"
     ]
    }
   ],
   "source": [
    "LeNet.compile(optimizer='adam', loss='categorical_crossentropy', metrics='accuracy')\n",
    "history = LeNet.fit(x_train, y_train, epochs=20, validation_data=(x_test, y_test), )"
   ]
  },
  {
   "cell_type": "markdown",
   "metadata": {},
   "source": [
    "2. numpy연산을 통해 직접 connected-layer를 구현하기"
   ]
  },
  {
   "cell_type": "code",
   "execution_count": null,
   "metadata": {},
   "outputs": [],
   "source": []
  }
 ],
 "metadata": {
  "kernelspec": {
   "display_name": "Python 3",
   "language": "python",
   "name": "python3"
  },
  "language_info": {
   "codemirror_mode": {
    "name": "ipython",
    "version": 3
   },
   "file_extension": ".py",
   "mimetype": "text/x-python",
   "name": "python",
   "nbconvert_exporter": "python",
   "pygments_lexer": "ipython3",
   "version": "3.8.5"
  }
 },
 "nbformat": 4,
 "nbformat_minor": 4
}
