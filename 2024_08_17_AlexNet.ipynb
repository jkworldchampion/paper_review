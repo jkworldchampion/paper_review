{
 "cells": [
  {
   "cell_type": "markdown",
   "metadata": {},
   "source": [
    "# AlexNet\n",
    "이 노트북은 AlexNet을 구현하는 노트북이다.\n"
   ]
  },
  {
   "cell_type": "code",
   "execution_count": 1,
   "metadata": {},
   "outputs": [
    {
     "name": "stdout",
     "output_type": "stream",
     "text": [
      "WARNING:tensorflow:From c:\\Users\\stand\\AppData\\Local\\Programs\\Python\\Python311\\Lib\\site-packages\\keras\\src\\losses.py:2976: The name tf.losses.sparse_softmax_cross_entropy is deprecated. Please use tf.compat.v1.losses.sparse_softmax_cross_entropy instead.\n",
      "\n"
     ]
    }
   ],
   "source": [
    "import tensorflow as tf\n",
    "from tensorflow import keras\n",
    "import matplotlib.pyplot as plt\n",
    "from sklearn.model_selection import train_test_split"
   ]
  },
  {
   "cell_type": "code",
   "execution_count": 8,
   "metadata": {},
   "outputs": [
    {
     "name": "stdout",
     "output_type": "stream",
     "text": [
      "x_train shape:  (40000, 32, 32, 3)\n",
      "y_train shape:  (40000, 1)\n"
     ]
    }
   ],
   "source": [
    "# 데이터셋 불러오기\n",
    "(x_train, y_train), (x_test, y_test) = keras.datasets.cifar10.load_data()\n",
    "\n",
    "# 이름 설정하기\n",
    "class_names = ['airplane', 'automobile', 'bird', 'cat', 'deer', 'dog', 'frog', 'horse', 'ship', 'truck']\n",
    "\n",
    "# 데이터 split\n",
    "x_train, x_val, y_train, y_val = train_test_split(x_train, y_train, test_size=0.2, random_state=42)\n",
    "\n",
    "# 결과 확인\n",
    "print(\"x_train shape: \", x_train.shape)\n",
    "print(\"y_train shape: \", y_train.shape)"
   ]
  },
  {
   "cell_type": "code",
   "execution_count": 9,
   "metadata": {},
   "outputs": [
    {
     "name": "stdout",
     "output_type": "stream",
     "text": [
      "train_ds:  <_TensorSliceDataset element_spec=(TensorSpec(shape=(32, 32, 3), dtype=tf.uint8, name=None), TensorSpec(shape=(1,), dtype=tf.uint8, name=None))>\n",
      "test_ds:  <_TensorSliceDataset element_spec=(TensorSpec(shape=(32, 32, 3), dtype=tf.uint8, name=None), TensorSpec(shape=(1,), dtype=tf.uint8, name=None))>\n",
      "val_ds:  <_TensorSliceDataset element_spec=(TensorSpec(shape=(32, 32, 3), dtype=tf.uint8, name=None), TensorSpec(shape=(1,), dtype=tf.uint8, name=None))>\n"
     ]
    }
   ],
   "source": [
    "train_ds = tf.data.Dataset.from_tensor_slices((x_train, y_train))\n",
    "test_ds = tf.data.Dataset.from_tensor_slices((x_test, y_test))\n",
    "val_ds = tf.data.Dataset.from_tensor_slices((x_val, y_val))\n",
    "\n",
    "print(\"train_ds: \", train_ds)\n",
    "print(\"test_ds: \", test_ds)\n",
    "print(\"val_ds: \", val_ds)"
   ]
  },
  {
   "cell_type": "code",
   "execution_count": 10,
   "metadata": {},
   "outputs": [],
   "source": [
    "def process_images(image, label):\n",
    "\n",
    "    # Resize images form 32*32 to 227*227\n",
    "    image = tf.image.resize(image, (227, 227))\n",
    "    return image, label"
   ]
  },
  {
   "cell_type": "code",
   "execution_count": 11,
   "metadata": {},
   "outputs": [],
   "source": [
    "train_ds = train_ds.batch(128, drop_remainder=True)\n",
    "test_ds = test_ds.batch(128, drop_remainder=True)\n",
    "val_ds = val_ds.batch(128, drop_remainder=True)\n",
    "\n",
    "train_ds = train_ds.map(process_images)\n",
    "test_ds = test_ds.map(process_images)\n",
    "val_ds = val_ds.map(process_images)"
   ]
  },
  {
   "cell_type": "code",
   "execution_count": 14,
   "metadata": {},
   "outputs": [],
   "source": [
    "from keras.models import Sequential\n",
    "from keras.layers import Dense, Conv2D, MaxPooling2D, Flatten, Dropout\n",
    "\n",
    "class AlexNet(Sequential):\n",
    "    def __init__(self):\n",
    "        super().__init__()\n",
    "\n",
    "        self.add(Conv2D(96, kernel_size=11, strides=4, activation='relu', input_shape=(227, 227, 3)))\n",
    "        self.add(BatchNormalization())\n",
    "        self.add(MaxPool2D(3, 2))\n",
    "\n",
    "        self.add(Conv2D(256, kernel_size=5, strides=1, activation='relu', padding='same'))\n",
    "        self.add(BatchNormalization())\n",
    "        self.add(MarkdownPool2D(3, 2))\n",
    "\n",
    "        self.add(Conv2D(384, kernel_size=3, strides=1, activation='relu', padding='same'))\n",
    "        self.add(BatchNormalization())\n",
    "\n",
    "        self.add(Conv2D(384, kernel_size=3, strides=1, activation='relu', padding='same'))\n",
    "        self.add(BatchNormalization())\n",
    "\n",
    "        self.add(Conv2D(256, kernel_size=3, strides=1, activation='relu', padding='same'))\n",
    "        self.add(BatchNormalization())\n",
    "        self.add(MaxPool2D(3, 2))\n",
    "\n",
    "        self.add(Flatten())\n",
    "        self.add(Dense(4096, activation='relu'))\n",
    "        self.add(Dropout(0.5))\n",
    "        self.add(Dense(4096, activation='relu'))\n",
    "        self.add(Dropout(0.5))\n",
    "        self.add(Dense(10, activation='softmax'))\n",
    "\n",
    "        self.complie(optimizer='adam', loss='sparse_categorical_crossentropy', metrics=['accuracy'])"
   ]
  }
 ],
 "metadata": {
  "kernelspec": {
   "display_name": "Python 3",
   "language": "python",
   "name": "python3"
  },
  "language_info": {
   "codemirror_mode": {
    "name": "ipython",
    "version": 3
   },
   "file_extension": ".py",
   "mimetype": "text/x-python",
   "name": "python",
   "nbconvert_exporter": "python",
   "pygments_lexer": "ipython3",
   "version": "3.11.3"
  }
 },
 "nbformat": 4,
 "nbformat_minor": 2
}
